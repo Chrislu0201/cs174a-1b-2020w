{
 "cells": [
  {
   "cell_type": "markdown",
   "metadata": {
    "slideshow": {
     "slide_type": "slide"
    }
   },
   "source": [
    "# CS-174A Discussion 1A, Week 2\n",
    "\n",
    "@ Ali Hatamizadeh\n",
    "\n",
    "@ ROLFE 3126 / Friday / 2:00pm- 3:50pm\n",
    "\n",
    "@ https://github.com/ahatamiz/cs174a-1b-2020w"
   ]
  },
  {
   "cell_type": "markdown",
   "metadata": {
    "slideshow": {
     "slide_type": "slide"
    }
   },
   "source": [
    "# Outline\n",
    "\n",
    "- Course Review\n",
    "- Assignment 2\n",
    "- Course Project Suggestions"
   ]
  },
  {
   "cell_type": "markdown",
   "metadata": {
    "slideshow": {
     "slide_type": "slide"
    }
   },
   "source": [
    "# Linear Algebra Review\n",
    "\n",
    "- Homogeneous coordinates\n",
    "- Affine Combinations"
   ]
  },
  {
   "cell_type": "markdown",
   "metadata": {
    "slideshow": {
     "slide_type": "slide"
    }
   },
   "source": [
    "## Homogeneous coordinates\n",
    "\n",
    "### Vectors and Points are represented as 4x1 column matrices:\n",
    "  $$\n",
    "  \\mathbf{v} = \\begin{bmatrix}\n",
    "  v_1\\\\\n",
    "  v_2\\\\\n",
    "  v_3\\\\\n",
    "  0\n",
    "  \\end{bmatrix}, \n",
    "  P = \\begin{bmatrix}\n",
    "  p_1\\\\\n",
    "  p_2\\\\\n",
    "  p_3\\\\\n",
    "  1\n",
    "  \\end{bmatrix}\n",
    "  $$,"
   ]
  },
  {
   "cell_type": "markdown",
   "metadata": {
    "slideshow": {
     "slide_type": "slide"
    }
   },
   "source": [
    "### Coordinate Systems\n",
    "\n",
    "$$\n",
    "\\mathbf{v} = v_1 \\mathbf{a} + v_2 \\mathbf{b} + v_3 \\mathbf{c} = \n",
    "\\begin{bmatrix}\n",
    "\\mathbf{a} & \\mathbf{c} & \\mathbf{c} & O\n",
    "\\end{bmatrix}\n",
    "\\begin{bmatrix}\n",
    "v_1 \\\\ v_2 \\\\ v_3 \\\\ 0\n",
    "\\end{bmatrix},\n",
    "$$\n",
    "$$\n",
    "P = O + p_1 \\mathbf{a} + p_2 \\mathbf{b} + p_3 \\mathbf{c} = \n",
    "\\begin{bmatrix}\n",
    "\\mathbf{a} & \\mathbf{c} & \\mathbf{c} & O\n",
    "\\end{bmatrix}\n",
    "\\begin{bmatrix}\n",
    "p_1 \\\\ p_2 \\\\ p_3 \\\\ 1\n",
    "\\end{bmatrix}\n",
    "$$\n",
    "<img src=\"figures/coord.png\" alt=\"drawing\" width=\"300\"/>"
   ]
  },
  {
   "cell_type": "markdown",
   "metadata": {
    "slideshow": {
     "slide_type": "slide"
    }
   },
   "source": [
    "### Linear Combination, Affine Combinations, and Convex Combination\n",
    "\n",
    "- Linear combination\n",
    "\n",
    "  $\n",
    "  \\mathbf{w} = a_1\\mathbf{v_1} + \\dots + a_m\\mathbf{v_m}, ~~a_1,\\dots, a_m \\in \\mathbb{R}\n",
    "  $\n",
    "\n",
    "\n",
    "- Affine combination\n",
    "\n",
    "  A linear combination for which  $a_1+ \\dots + a_m=1$\n",
    "    \n",
    "    \n",
    "- Convex combination\n",
    "\n",
    "  An affine combination for which $a_i≥0$ for $i=1,\\dots,m$"
   ]
  },
  {
   "cell_type": "markdown",
   "metadata": {
    "slideshow": {
     "slide_type": "slide"
    }
   },
   "source": [
    "# Drawing Shapes with Computer Graphics\n",
    "\n",
    "- We're mostly trying to draw functions that are not linear or even polynomial.\n",
    "\n",
    "## Discretization\n",
    "\n",
    "- We don't know how to tell a computer to draw most shapes \n",
    "- Instead, we linearize those shapes: Break them up\n",
    "- Use a finite number of line segments between N discrete points"
   ]
  },
  {
   "cell_type": "markdown",
   "metadata": {
    "slideshow": {
     "slide_type": "slide"
    }
   },
   "source": [
    "## Discretization\n",
    "<img src=\"https://upload.wikimedia.org/wikipedia/commons/a/a9/Finite_element_solution.svg\" alt=\"drawing\" width=\"400\"/>"
   ]
  },
  {
   "cell_type": "markdown",
   "metadata": {
    "slideshow": {
     "slide_type": "slide"
    }
   },
   "source": [
    "## Example of Premitives in tinygraphics ( Triangle)\n",
    "\n",
    "- Positions: specify the vertex positions\n",
    "- Normals: specify whether the shape is pointed at light or not\n",
    "- Indices: specify how vertices are connected into a whole triangle (Every three indices in \"this.indices\" traces out one triangle)\n",
    "\n",
    "<img src=\"figures/triangle_example.png\" alt=\"drawing\" width=\"800\"/>\n"
   ]
  },
  {
   "cell_type": "markdown",
   "metadata": {
    "slideshow": {
     "slide_type": "slide"
    }
   },
   "source": [
    "## Example of Premitives in tinygraphics ( Triangle)\n",
    "\n",
    "<img src=\"figures/triangle_example2.png\" alt=\"drawing\" width=\"800\"/>"
   ]
  },
  {
   "cell_type": "markdown",
   "metadata": {
    "slideshow": {
     "slide_type": "slide"
    }
   },
   "source": [
    "## What are the arguments of a typical draw function ? \n",
    "\n",
    "\n",
    "this.draw_triangle(graphics_state, model_transform);"
   ]
  },
  {
   "cell_type": "markdown",
   "metadata": {
    "slideshow": {
     "slide_type": "slide"
    }
   },
   "source": [
    "## Closer look at graphics_state class in tinygraphics\n",
    "\n",
    "\n",
    "<img src=\"figures/graphics_state.png\" alt=\"drawing\" width=\"800\"/>\n"
   ]
  },
  {
   "cell_type": "markdown",
   "metadata": {
    "slideshow": {
     "slide_type": "slide"
    }
   },
   "source": [
    "## Rotation vs Translation : Does the order matter ? \n",
    "\n",
    "<img src=\"figures/rotation_translation.png\" alt=\"drawing\" width=\"800\"/>\n",
    "\n",
    "\n",
    "\n"
   ]
  },
  {
   "cell_type": "markdown",
   "metadata": {
    "slideshow": {
     "slide_type": "slide"
    }
   },
   "source": [
    "## Example of Premitives in tinygraphics \n",
    "\n",
    "Can you draw a square in the same manner ? \n"
   ]
  },
  {
   "cell_type": "markdown",
   "metadata": {
    "slideshow": {
     "slide_type": "slide"
    }
   },
   "source": [
    "### Demo"
   ]
  },
  {
   "cell_type": "markdown",
   "metadata": {
    "slideshow": {
     "slide_type": "slide"
    }
   },
   "source": [
    "# Group Project Discussion\n",
    "\n",
    "- What is like to be a decent project\n"
   ]
  },
  {
   "cell_type": "markdown",
   "metadata": {
    "slideshow": {
     "slide_type": "slide"
    }
   },
   "source": [
    "## Average Project\n",
    "\n",
    "<img src=\"figures/project1.png\" alt=\"drawing\" width=\"400\"/>\n",
    "\n",
    "https://getsetproject.com/info-project.php?id=314&name=Traffic%20Signal%20Cg%20mini%20Project%20using%20OpenGL"
   ]
  },
  {
   "cell_type": "markdown",
   "metadata": {
    "slideshow": {
     "slide_type": "slide"
    }
   },
   "source": [
    "# Some Cool Project Your Classmates May Build\n",
    "\n",
    "Demo"
   ]
  },
  {
   "cell_type": "markdown",
   "metadata": {
    "slideshow": {
     "slide_type": "slide"
    }
   },
   "source": []
  },
  {
   "cell_type": "markdown",
   "metadata": {
    "slideshow": {
     "slide_type": "slide"
    }
   },
   "source": []
  },
  {
   "cell_type": "code",
   "execution_count": null,
   "metadata": {},
   "outputs": [],
   "source": []
  }
 ],
 "metadata": {
  "celltoolbar": "Slideshow",
  "kernelspec": {
   "display_name": "Python 3",
   "language": "python",
   "name": "python3"
  },
  "language_info": {
   "codemirror_mode": {
    "name": "ipython",
    "version": 3
   },
   "file_extension": ".py",
   "mimetype": "text/x-python",
   "name": "python",
   "nbconvert_exporter": "python",
   "pygments_lexer": "ipython3",
   "version": "3.7.2"
  }
 },
 "nbformat": 4,
 "nbformat_minor": 2
}
